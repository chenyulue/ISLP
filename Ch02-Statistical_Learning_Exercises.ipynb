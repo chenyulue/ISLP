{
 "cells": [
  {
   "cell_type": "markdown",
   "metadata": {},
   "source": [
    "# 2.4 Exercises\n",
    "## Conceptual\n",
    "1. **Answers to the 1st question:**\n",
    "    \n",
    "    (a) A flexible method is better, because we have enough data to fit the model and it will overcome overfitting.\n",
    "    \n",
    "    (b) A flexible method is worse, because the number of observations *n* is small, and a highly flexible method may lead to overfitting.\n",
    "    \n",
    "    (c) A flexible method is better, because a highly flexible method can fit the non-linear relationship better.\n",
    "    \n",
    "    (d) A flexible method is worse, because more flexible method may gives more variance.\n",
    "\n",
    "2. **Answers to the 2nd question:**\n",
    "\n",
    "    (a) A regression problem with the interest in inference, where $n=500, p=4$\n",
    "    \n",
    "    (b) A classification problem with the interest in prediction, where $n=20, p=14$\n",
    "    \n",
    "    (c) A regression problem with the interest in prediction, where $n=52$ (number of weeks in 2012), $p=4$\n",
    "    \n",
    "3. **Answers to the 3rd quetion：**\n",
    "\n",
    "    (a) ![sketch](3-a.jpg)\n",
    "    \n",
    "    (b) The reason of the shape:\n",
    "        Variance, which has low value for lower flexibility and increases as the flexibility increases.\n",
    "        Bias, which has high value for lower flexibility and decreases as the flexibility increases.\n",
    "        Bayes error, which is the constant irreducible error.\n",
    "        Train error, which decreases monotonously because the increase in flexibility makes the fitting model fit in the pattern in the training data set.\n",
    "        Test error, which first decreases with the bias due to the model fitting the relationship better and better, and increases after the minimum because of overfitting.\n",
    "        \n",
    "4. **Answers to the 4th question:**\n",
    "    \n",
    "    (a) "
   ]
  },
  {
   "cell_type": "code",
   "execution_count": null,
   "metadata": {},
   "outputs": [],
   "source": []
  }
 ],
 "metadata": {
  "kernelspec": {
   "display_name": "Python 3",
   "language": "python",
   "name": "python3"
  },
  "language_info": {
   "codemirror_mode": {
    "name": "ipython",
    "version": 3
   },
   "file_extension": ".py",
   "mimetype": "text/x-python",
   "name": "python",
   "nbconvert_exporter": "python",
   "pygments_lexer": "ipython3",
   "version": "3.7.9"
  }
 },
 "nbformat": 4,
 "nbformat_minor": 4
}
