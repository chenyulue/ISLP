{
 "cells": [
  {
   "cell_type": "markdown",
   "metadata": {},
   "source": [
    "# Conceptual\n",
    "\n",
    "1. Using a little bit of algebra, prove that (4.2) is equivalent to (4.3).\n",
    "\n",
    "**Solution**:\n",
    "$$\\begin{align} p(X) &= \\frac{e^{\\beta_0 + \\beta_1 X}}{1 + e^{\\beta_0 + \\beta_1 X}} \\\\ \\Longrightarrow \\frac{1}{p(X)} &= \\frac{1 + e^{\\beta_0 + \\beta_1 X}}{e^{\\beta_0 + \\beta_1 X}} \\\\ \\Longrightarrow \\frac{1}{p(X)} &= \\frac{1}{e^{\\beta_0 + \\beta_1 X}} + 1 \\\\ \\Longrightarrow \\frac{1}{p(X)} - 1 &= \\frac{1}{e^{\\beta_0 + \\beta_1 X}} \\\\ \\Longrightarrow \\frac{1 - p(X)}{p(X)} &= \\frac{1}{e^{\\beta_0 + \\beta_1 X}} \\\\ \\Longrightarrow \\frac{p(X)}{1 - p(X)} &= e^{\\beta_0 + \\beta_1 X}\\end{align}$$"
   ]
  },
  {
   "cell_type": "markdown",
   "metadata": {},
   "source": [
    "2. Prove the state that classifying an observation to the class for which (4.12) is largest is equivalent to classifying an observation to the class for which (4.13) is largest.\n",
    "\n",
    "**Solution**:\n",
    "\n",
    "$$\\begin{align} p_k(x) &= \\frac{\\pi_k \\frac{1}{\\sqrt{2\\pi}\\sigma}exp(-\\frac{1}{2\\sigma^2}(x-\\mu_k)^2)}{\\sum_{l=1}^K \\pi_l \\frac{1}{\\sqrt{2\\pi}\\sigma}exp(-\\frac{1}{2\\sigma^2}(x-\\mu_l)^2)} \\\\ \\Longrightarrow log(p_k(x)) &= log(\\pi_k) - \\frac{1}{2\\sigma^2}(x-\\mu_k)^2 - log(C) \\\\ \\Longrightarrow log(p_k(x)) + log(C) &= log(\\pi_k) + x \\cdot \\frac{\\mu_k}{\\sigma^2} - \\frac{\\mu_k^2}{2\\sigma^2} - \\frac{x^2}{2\\sigma^2} \\\\ \\Longrightarrow log(p_k(x)) + log(C) + \\frac{x^2}{2\\sigma^2}&= log(\\pi_k) + x \\cdot \\frac{\\mu_k}{\\sigma^2} - \\frac{\\mu_k^2}{2\\sigma^2} \\end{align}$$\n",
    "\n",
    "where\n",
    "$$ C = \\sum_{l=1}^K \\pi_l exp(-\\frac{1}{2\\sigma^2}(x-\\mu_l)^2)$$\n",
    "\n",
    "\n",
    "For a specific observation $x$, $C$ and $\\frac{x^2}{2\\sigma^2}$ are constants, so supposing $\\delta_k(x) = log(p_k(x)) + log(C) + \\frac{x^2}{2\\sigma^2}$, we get:\n",
    "$$\\delta_k(x) = log(\\pi_k) + x \\cdot \\frac{\\mu_k}{\\sigma^2} - \\frac{\\mu_k^2}{2\\sigma^2}$$\n",
    "\n",
    "It is clearly concluded that $p_k(x)$ is largest $\\iff$ $\\delta_k(x)$ is largest."
   ]
  },
  {
   "cell_type": "markdown",
   "metadata": {},
   "source": [
    "3. This problem relates to the QDA model with only one feature; that is, $p=1$. Suppose that we have $K$ classes, and that if an observation belongs to the *k*-th class then $X$ comes from a one-dimentional normal distribution, $X\\,\\sim\\,N(\\mu_k, \\sigma_k^2)$. According to (4.11), prove that in this case without making the assumption that $\\sigma_1^2 = ... = \\sigma_K^2$, the Bayes' classifier is *not* linear. Argue that it is in fact quadratic.\n",
    "\n",
    "**Solution**:\n",
    "\n",
    "$$\\begin{align} f_k(x) &= \\frac{1}{\\sqrt{2\\pi}\\sigma_k}exp(-\\frac{1}{2\\sigma_k^2}(x-\\mu_k)^2) \\\\ p_k(x) &= \\frac{\\pi_k f_k(x)}{\\sum_{l=1}^K \\pi_l f_l(x)} \\\\ \\Longrightarrow p_k(x) &= \\frac{\\pi_k \\frac{1}{\\sqrt{2\\pi}\\sigma_k}exp(-\\frac{1}{2\\sigma_k^2}(x-\\mu_k)^2)}{\\sum_{l=1}^K \\pi_l \\frac{1}{\\sqrt{2\\pi}\\sigma_l}exp(-\\frac{1}{2\\sigma_l^2}(x-\\mu_l)^2)} \\\\ \\Longrightarrow log(p_k(x)) &= log(\\pi_k) - log(\\sigma_k) - \\frac{1}{2\\sigma_k^2} (x-\\mu_k)^2 - log(C) \\\\ \\Longrightarrow log(p_k(x)) + log(C) &= log(\\pi_k) - log(\\sigma_k) - \\frac{x^2}{2\\sigma_k^2} + x \\cdot \\frac{\\mu_k}{2\\sigma_k^2} - \\frac{\\mu_k^2}{2\\sigma_k^2}\\end{align}$$"
   ]
  },
  {
   "cell_type": "markdown",
   "metadata": {},
   "source": [
    "where \n",
    "$$C=\\sum_{l=1}^K \\pi_l \\frac{1}{\\sigma_l}exp(-\\frac{1}{2\\sigma_l^2}(x-\\mu_l)^2)$$\n",
    "\n",
    "For a specific observation, $C$ is a constant, so we let $\\delta_k(x) = log(p_k(x)) + log(C)$, and get the following formula:\n",
    "\n",
    "$$\\delta_k(x) = log(\\pi_k) - log(\\sigma_k) - \\frac{x^2}{2\\sigma_k^2} + x \\cdot \\frac{\\mu_k}{2\\sigma_k^2} - \\frac{\\mu_k^2}{2\\sigma_k^2}$$\n",
    "\n",
    "We can see that the Bayes' classifier is not linear; actually, it is a quadratic function of $x$."
   ]
  },
  {
   "cell_type": "markdown",
   "metadata": {},
   "source": [
    "4. We will now investigate the phenomenon known as the *curse of dimensionality*, which ties into the fact that non-parametric approaches often perform poorly when *p* is large.\n",
    "\n",
    "(a) For the case of $p=1$, what fraction of the available observations will we use to make the prediction on average?\n",
    "\n",
    "**Solution**:\n",
    "\n",
    "Since $X$ is uniformly distributed on $[0,1]$, we have to analyze this problem in three different case:\n",
    "\n",
    "* If $X \\in [0.05, 0.95]$, the observations that will be used to make a prediction are in the interval $[x-0.05, x+0.05]$, and clearly $10\\%$ of the available observations will be used.\n",
    "* If $X \\in [0, 0.05]$, then we will use the observations that are in the interval $[0, x+0.05]$; in this case, the fraction of the available observations that we will use is $(100x+5)\\%$.\n",
    "* If $ X \\in [0.95, 1]$, the observations that are in the interval $[x-0.05, 1]$ are used to make the prediction, so the fraction of the available observations used is $(105-100x)\\%$.\n",
    "\n",
    "In total, the average fraction of the available observations that we will use is:\n",
    "\n",
    "$$\\int_{0.05}^{0.95}10dx + \\int_0^{0.05} (100x+5)dx + \\int_{0.95}^1 (105-100x)dx = 9 + 0.375 + 0.375 = 9.75\\%$$"
   ]
  },
  {
   "cell_type": "markdown",
   "metadata": {},
   "source": [
    "(b) For the case of $p=2$, what fraction of the available observations will we use to make the prediction on average?\n",
    "\n",
    "**Solution**:\n",
    "\n",
    "If $X_1$ and $X_2$ are independent, the average fraction of the available observations we will use to make the prediction is $9.75\\% \\times 9.75\\% =  95.0625\\%$\n"
   ]
  },
  {
   "cell_type": "markdown",
   "metadata": {},
   "source": [
    "(c) For the case of $p=100$, what fraction of the available observations will we use to make the prediction?\n",
    "\n",
    "**Solution**:\n",
    "\n",
    "With the same assumption as (a) and (b), the fraction of the available observations is $9.75\\%^{100} \\approx 0\\%$"
   ]
  },
  {
   "cell_type": "markdown",
   "metadata": {},
   "source": [
    "(d) Using your answers to parts (a)-(c), argue that a drawback of KNN when *p* is large is that there are very few training observations \"near\" any given test observation.\n",
    "\n",
    "**Solution**:\n",
    "\n",
    "As we see from (a)-(c), the fraction of the available observations that we will use to make the prediction is $(9.75\\%)^p$ with $p$ as the number of features. So when $p$ is large, $(9.75\\%)^p$ has a tendency to zero, which means there are very few training observations *near* any given test observation."
   ]
  },
  {
   "cell_type": "markdown",
   "metadata": {},
   "source": [
    "(e) For $p=1,\\,2,$ and $100$, what is the length of each side of the hypercube? Comment on your answer.\n",
    "\n",
    "**Solution**:\n",
    "\n",
    "Since in this case we do not make any assumption about the distribution of $X$, so for $p=1$, we have $l=0.1$; for $p=2$, we have $l=0.1^{1/2}$; and for $p=100$, we have $l=0.1^{1/100}$."
   ]
  },
  {
   "cell_type": "markdown",
   "metadata": {},
   "source": [
    "5. We now examine the differences between LDA and QDA.\n",
    "\n",
    "(a) If the Bayes decision boundary is linear, do we expect LDA or QDA to perform better on the training set? On the test set?\n",
    "\n",
    "**Solution**:\n",
    "\n",
    "For the training set, QDA should perform better than LDA, but worse for the test set, because QDA may produce a closer fit with its high flexibility but could overfit the linearity on the Bayes decision boundary."
   ]
  },
  {
   "cell_type": "markdown",
   "metadata": {},
   "source": [
    "(b) If the Bayes decision boundary is non-linear, do we expect LDA or QDA to perform better on the training set? On the test set?\n",
    "\n",
    "**Solution**:\n",
    "\n",
    "If the Bayes decision boundary is non-linear, we expect QDA to perform better both on the training set and the test set."
   ]
  },
  {
   "cell_type": "markdown",
   "metadata": {},
   "source": [
    "(c) In general, as the sample size n increases, do we expect the test perdiction accuracy of QDA relative to LDA to improve, decline, or be unchanged? Why?\n",
    "\n",
    "**Solution**:\n",
    "\n",
    "Since QDA has a higher flexibility than LDA and so has a higher variance, QDA generally performs better if the sample size n is very large. In this case, the variance of the classifier is not a major concern."
   ]
  },
  {
   "cell_type": "markdown",
   "metadata": {},
   "source": [
    "(d) True or False, and justify your answer.\n",
    "\n",
    "**Solution**:\n",
    "\n",
    "False. Whether QDA achieves a superior test error rate or not depends on the sample size. For a small sample size, a more flexible method, such as QDA, may overfit the data set, which in turn leads to an inferior test error. For a sample with a very large size, QDA may perform better."
   ]
  },
  {
   "cell_type": "markdown",
   "metadata": {},
   "source": [
    "6. Suppose we collect data for a group of students in a statistics class with variables $X_1=hours\\; studied$, $X_2 = undergrad \\; GPA$, and $Y = receive \\; an\\; A$.\n",
    "\n",
    "(a) Estimate the probability that a student who studies for 40h and has an undergrad GPA of 3.5 gets an A in the class.\n",
    "\n",
    "**Solution**:\n",
    "\n",
    "$$\\begin{align} log(\\frac{p_A(x)}{1-p_A(x)}) &= -6 + 0.05 X_1 + X_2 \\\\ &= -6 + 0.05 \\times 40 + 3.5 \\\\ &= -0.5 \\\\ \\Longrightarrow \\frac{p_A(x)}{1-p_A(x)} = e^{-0.5} \\\\ \\Longrightarrow p_A(x) = 0.378 \\end{align}$$"
   ]
  },
  {
   "cell_type": "markdown",
   "metadata": {},
   "source": [
    "(b) How many hours would the student in part (a) need to study to have a 50% chance of getting an A in the class?\n",
    "\n",
    "**Solution**:\n",
    "\n",
    "$$\\begin{align} log(1) &= -6 + 0.05X_1 + 3.5 \\\\ \\Longrightarrow 0 &= 0.05X_1 - 2.5 \\\\ \\Longrightarrow X_1 &= 50 \\end{align}$$\n",
    "\n",
    "So 50 hours are needed."
   ]
  },
  {
   "cell_type": "markdown",
   "metadata": {},
   "source": [
    "7. Suppose that we wish to predict whether a given stock will issue a dividend this year (\"Yes\" or \"No\") based on $X$, last year's percent profit.\n",
    "\n",
    "**Solution**:\n",
    "\n",
    "According to the description, we can obtain the following parameters:\n",
    "\n",
    "* $\\pi_{Yes} = 0.8,\\; \\pi_{No} = 0.2$\n",
    "* $\\mu_{Yes} = 10,\\; \\mu_{No} = 0,\\; \\hat{delta}^2=36$\n",
    "\n",
    "Pass the above parameters into the Bayes' theorm formula:\n",
    "\n",
    "$$Pr(Y=Yes|X=4) = \\frac{0.8\\times exp(-1/2)}{0.8 \\times exp(-1/2) + 0.2 \\times exp(-2/9)} = 0.7519$$\n",
    "\n",
    "So the probability that a company will issue a dividend this year is 75.19% given that its percentage profit was $X=4$ last year."
   ]
  },
  {
   "cell_type": "markdown",
   "metadata": {},
   "source": [
    "8. Based on these resuls, which method should we prefer to use for classification of new observations? Why?\n",
    "\n",
    "**Solution**:\n",
    "\n",
    "In the case of KNN method with $K=1$, the probability is given as:\n",
    "\n",
    "$$Pr(Y=j|X=x_0) = I(y_i=j)$$\n",
    "\n",
    "which is equal to 1 if $y_i=j$ and 0 if not. Therefore we do not make any error on the training data within this setting, which means we have a training error rate of 0%. \n",
    "\n",
    "However we have an average error rate of 18% for the KNN method, which means that the test error rate is 36%. This test error rate is greater than that for the logistic regression. \n",
    "\n",
    "So it's better to choose the logistic regression for classification of new observations due to its lower test error rate."
   ]
  },
  {
   "cell_type": "markdown",
   "metadata": {},
   "source": [
    "9. This problem has to do with *odds*.\n",
    "\n",
    "(a) On average, what fraction of people with an odds of 0.37 of defaulting on their credit card payment will in fact default?\n",
    "\n",
    "**Solution**:\n",
    "\n",
    "For *odds*, we write it as:\n",
    "\n",
    "$$\\frac{p(X)}{1-p(X)} = 0.37$$\n",
    "\n",
    "Compute it, and we get $p(X) = 0.37/(1+0.37) = 0.27$\n",
    "\n",
    "(b) Suppose that an individual has a 16% chance of defaulting on her credit card payment. What are the odds that she will default?\n",
    "\n",
    "**Solution**:\n",
    "\n",
    "$$odds = \\frac{p(X)}{1-p(X)} = \\frac{0.16}{1-0.16} = 0.19$$"
   ]
  },
  {
   "cell_type": "markdown",
   "metadata": {},
   "source": [
    "# Applied"
   ]
  },
  {
   "cell_type": "markdown",
   "metadata": {},
   "source": [
    "Firstly, we need to import some packages:"
   ]
  },
  {
   "cell_type": "code",
   "execution_count": 1,
   "metadata": {},
   "outputs": [],
   "source": [
    "import pandas as pd\n",
    "import numpy as np\n",
    "\n",
    "import statsmodels.formula.api as smf\n",
    "import statsmodels.api as sm\n",
    "from sklearn.metrics import confusion_matrix, classification_report, precision_score\n",
    "from sklearn.discriminant_analysis import LinearDiscriminantAnalysis, QuadraticDiscriminantAnalysis\n",
    "from sklearn import neighbors, preprocessing\n",
    "\n",
    "import seaborn as sns\n",
    "import matplotlib.pyplot as plt"
   ]
  },
  {
   "cell_type": "markdown",
   "metadata": {},
   "source": [
    "10. This question should be answered using the **Weekly** data set.\n",
    "\n",
    "(a) Produce some numerial and graphical summaries of the **Weekly** data. Do there appear to be any patterns?\n",
    "\n",
    "**Solution**:"
   ]
  },
  {
   "cell_type": "code",
   "execution_count": 2,
   "metadata": {},
   "outputs": [
    {
     "data": {
      "text/html": [
       "<div>\n",
       "<style scoped>\n",
       "    .dataframe tbody tr th:only-of-type {\n",
       "        vertical-align: middle;\n",
       "    }\n",
       "\n",
       "    .dataframe tbody tr th {\n",
       "        vertical-align: top;\n",
       "    }\n",
       "\n",
       "    .dataframe thead th {\n",
       "        text-align: right;\n",
       "    }\n",
       "</style>\n",
       "<table border=\"1\" class=\"dataframe\">\n",
       "  <thead>\n",
       "    <tr style=\"text-align: right;\">\n",
       "      <th></th>\n",
       "      <th>Year</th>\n",
       "      <th>Lag1</th>\n",
       "      <th>Lag2</th>\n",
       "      <th>Lag3</th>\n",
       "      <th>Lag4</th>\n",
       "      <th>Lag5</th>\n",
       "      <th>Volume</th>\n",
       "      <th>Today</th>\n",
       "      <th>Direction</th>\n",
       "    </tr>\n",
       "  </thead>\n",
       "  <tbody>\n",
       "    <tr>\n",
       "      <th>0</th>\n",
       "      <td>1990</td>\n",
       "      <td>0.816</td>\n",
       "      <td>1.572</td>\n",
       "      <td>-3.936</td>\n",
       "      <td>-0.229</td>\n",
       "      <td>-3.484</td>\n",
       "      <td>0.154976</td>\n",
       "      <td>-0.270</td>\n",
       "      <td>Down</td>\n",
       "    </tr>\n",
       "    <tr>\n",
       "      <th>1</th>\n",
       "      <td>1990</td>\n",
       "      <td>-0.270</td>\n",
       "      <td>0.816</td>\n",
       "      <td>1.572</td>\n",
       "      <td>-3.936</td>\n",
       "      <td>-0.229</td>\n",
       "      <td>0.148574</td>\n",
       "      <td>-2.576</td>\n",
       "      <td>Down</td>\n",
       "    </tr>\n",
       "    <tr>\n",
       "      <th>2</th>\n",
       "      <td>1990</td>\n",
       "      <td>-2.576</td>\n",
       "      <td>-0.270</td>\n",
       "      <td>0.816</td>\n",
       "      <td>1.572</td>\n",
       "      <td>-3.936</td>\n",
       "      <td>0.159837</td>\n",
       "      <td>3.514</td>\n",
       "      <td>Up</td>\n",
       "    </tr>\n",
       "    <tr>\n",
       "      <th>3</th>\n",
       "      <td>1990</td>\n",
       "      <td>3.514</td>\n",
       "      <td>-2.576</td>\n",
       "      <td>-0.270</td>\n",
       "      <td>0.816</td>\n",
       "      <td>1.572</td>\n",
       "      <td>0.161630</td>\n",
       "      <td>0.712</td>\n",
       "      <td>Up</td>\n",
       "    </tr>\n",
       "    <tr>\n",
       "      <th>4</th>\n",
       "      <td>1990</td>\n",
       "      <td>0.712</td>\n",
       "      <td>3.514</td>\n",
       "      <td>-2.576</td>\n",
       "      <td>-0.270</td>\n",
       "      <td>0.816</td>\n",
       "      <td>0.153728</td>\n",
       "      <td>1.178</td>\n",
       "      <td>Up</td>\n",
       "    </tr>\n",
       "  </tbody>\n",
       "</table>\n",
       "</div>"
      ],
      "text/plain": [
       "   Year   Lag1   Lag2   Lag3   Lag4   Lag5    Volume  Today Direction\n",
       "0  1990  0.816  1.572 -3.936 -0.229 -3.484  0.154976 -0.270      Down\n",
       "1  1990 -0.270  0.816  1.572 -3.936 -0.229  0.148574 -2.576      Down\n",
       "2  1990 -2.576 -0.270  0.816  1.572 -3.936  0.159837  3.514        Up\n",
       "3  1990  3.514 -2.576 -0.270  0.816  1.572  0.161630  0.712        Up\n",
       "4  1990  0.712  3.514 -2.576 -0.270  0.816  0.153728  1.178        Up"
      ]
     },
     "execution_count": 2,
     "metadata": {},
     "output_type": "execute_result"
    }
   ],
   "source": [
    "weekly = pd.read_csv('../data/Weekly.csv',\n",
    "                    na_values='?')\n",
    "weekly.head()"
   ]
  },
  {
   "cell_type": "code",
   "execution_count": 3,
   "metadata": {},
   "outputs": [
    {
     "data": {
      "text/html": [
       "<div>\n",
       "<style scoped>\n",
       "    .dataframe tbody tr th:only-of-type {\n",
       "        vertical-align: middle;\n",
       "    }\n",
       "\n",
       "    .dataframe tbody tr th {\n",
       "        vertical-align: top;\n",
       "    }\n",
       "\n",
       "    .dataframe thead th {\n",
       "        text-align: right;\n",
       "    }\n",
       "</style>\n",
       "<table border=\"1\" class=\"dataframe\">\n",
       "  <thead>\n",
       "    <tr style=\"text-align: right;\">\n",
       "      <th></th>\n",
       "      <th>Year</th>\n",
       "      <th>Lag1</th>\n",
       "      <th>Lag2</th>\n",
       "      <th>Lag3</th>\n",
       "      <th>Lag4</th>\n",
       "      <th>Lag5</th>\n",
       "      <th>Volume</th>\n",
       "      <th>Today</th>\n",
       "    </tr>\n",
       "  </thead>\n",
       "  <tbody>\n",
       "    <tr>\n",
       "      <th>count</th>\n",
       "      <td>1089.000000</td>\n",
       "      <td>1089.000000</td>\n",
       "      <td>1089.000000</td>\n",
       "      <td>1089.000000</td>\n",
       "      <td>1089.000000</td>\n",
       "      <td>1089.000000</td>\n",
       "      <td>1089.000000</td>\n",
       "      <td>1089.000000</td>\n",
       "    </tr>\n",
       "    <tr>\n",
       "      <th>mean</th>\n",
       "      <td>2000.048669</td>\n",
       "      <td>0.150585</td>\n",
       "      <td>0.151079</td>\n",
       "      <td>0.147205</td>\n",
       "      <td>0.145818</td>\n",
       "      <td>0.139893</td>\n",
       "      <td>1.574618</td>\n",
       "      <td>0.149899</td>\n",
       "    </tr>\n",
       "    <tr>\n",
       "      <th>std</th>\n",
       "      <td>6.033182</td>\n",
       "      <td>2.357013</td>\n",
       "      <td>2.357254</td>\n",
       "      <td>2.360502</td>\n",
       "      <td>2.360279</td>\n",
       "      <td>2.361285</td>\n",
       "      <td>1.686636</td>\n",
       "      <td>2.356927</td>\n",
       "    </tr>\n",
       "    <tr>\n",
       "      <th>min</th>\n",
       "      <td>1990.000000</td>\n",
       "      <td>-18.195000</td>\n",
       "      <td>-18.195000</td>\n",
       "      <td>-18.195000</td>\n",
       "      <td>-18.195000</td>\n",
       "      <td>-18.195000</td>\n",
       "      <td>0.087465</td>\n",
       "      <td>-18.195000</td>\n",
       "    </tr>\n",
       "    <tr>\n",
       "      <th>25%</th>\n",
       "      <td>1995.000000</td>\n",
       "      <td>-1.154000</td>\n",
       "      <td>-1.154000</td>\n",
       "      <td>-1.158000</td>\n",
       "      <td>-1.158000</td>\n",
       "      <td>-1.166000</td>\n",
       "      <td>0.332022</td>\n",
       "      <td>-1.154000</td>\n",
       "    </tr>\n",
       "    <tr>\n",
       "      <th>50%</th>\n",
       "      <td>2000.000000</td>\n",
       "      <td>0.241000</td>\n",
       "      <td>0.241000</td>\n",
       "      <td>0.241000</td>\n",
       "      <td>0.238000</td>\n",
       "      <td>0.234000</td>\n",
       "      <td>1.002680</td>\n",
       "      <td>0.241000</td>\n",
       "    </tr>\n",
       "    <tr>\n",
       "      <th>75%</th>\n",
       "      <td>2005.000000</td>\n",
       "      <td>1.405000</td>\n",
       "      <td>1.409000</td>\n",
       "      <td>1.409000</td>\n",
       "      <td>1.409000</td>\n",
       "      <td>1.405000</td>\n",
       "      <td>2.053727</td>\n",
       "      <td>1.405000</td>\n",
       "    </tr>\n",
       "    <tr>\n",
       "      <th>max</th>\n",
       "      <td>2010.000000</td>\n",
       "      <td>12.026000</td>\n",
       "      <td>12.026000</td>\n",
       "      <td>12.026000</td>\n",
       "      <td>12.026000</td>\n",
       "      <td>12.026000</td>\n",
       "      <td>9.328214</td>\n",
       "      <td>12.026000</td>\n",
       "    </tr>\n",
       "  </tbody>\n",
       "</table>\n",
       "</div>"
      ],
      "text/plain": [
       "              Year         Lag1         Lag2         Lag3         Lag4  \\\n",
       "count  1089.000000  1089.000000  1089.000000  1089.000000  1089.000000   \n",
       "mean   2000.048669     0.150585     0.151079     0.147205     0.145818   \n",
       "std       6.033182     2.357013     2.357254     2.360502     2.360279   \n",
       "min    1990.000000   -18.195000   -18.195000   -18.195000   -18.195000   \n",
       "25%    1995.000000    -1.154000    -1.154000    -1.158000    -1.158000   \n",
       "50%    2000.000000     0.241000     0.241000     0.241000     0.238000   \n",
       "75%    2005.000000     1.405000     1.409000     1.409000     1.409000   \n",
       "max    2010.000000    12.026000    12.026000    12.026000    12.026000   \n",
       "\n",
       "              Lag5       Volume        Today  \n",
       "count  1089.000000  1089.000000  1089.000000  \n",
       "mean      0.139893     1.574618     0.149899  \n",
       "std       2.361285     1.686636     2.356927  \n",
       "min     -18.195000     0.087465   -18.195000  \n",
       "25%      -1.166000     0.332022    -1.154000  \n",
       "50%       0.234000     1.002680     0.241000  \n",
       "75%       1.405000     2.053727     1.405000  \n",
       "max      12.026000     9.328214    12.026000  "
      ]
     },
     "execution_count": 3,
     "metadata": {},
     "output_type": "execute_result"
    }
   ],
   "source": [
    "weekly.describe()"
   ]
  },
  {
   "cell_type": "code",
   "execution_count": 8,
   "metadata": {},
   "outputs": [
    {
     "data": {
      "text/html": [
       "<div>\n",
       "<style scoped>\n",
       "    .dataframe tbody tr th:only-of-type {\n",
       "        vertical-align: middle;\n",
       "    }\n",
       "\n",
       "    .dataframe tbody tr th {\n",
       "        vertical-align: top;\n",
       "    }\n",
       "\n",
       "    .dataframe thead th {\n",
       "        text-align: right;\n",
       "    }\n",
       "</style>\n",
       "<table border=\"1\" class=\"dataframe\">\n",
       "  <thead>\n",
       "    <tr style=\"text-align: right;\">\n",
       "      <th></th>\n",
       "      <th>Year</th>\n",
       "      <th>Lag1</th>\n",
       "      <th>Lag2</th>\n",
       "      <th>Lag3</th>\n",
       "      <th>Lag4</th>\n",
       "      <th>Lag5</th>\n",
       "      <th>Volume</th>\n",
       "      <th>Today</th>\n",
       "    </tr>\n",
       "  </thead>\n",
       "  <tbody>\n",
       "    <tr>\n",
       "      <th>Year</th>\n",
       "      <td>1.000000</td>\n",
       "      <td>-0.032289</td>\n",
       "      <td>-0.033390</td>\n",
       "      <td>-0.030006</td>\n",
       "      <td>-0.031128</td>\n",
       "      <td>-0.030519</td>\n",
       "      <td>0.841942</td>\n",
       "      <td>-0.032460</td>\n",
       "    </tr>\n",
       "    <tr>\n",
       "      <th>Lag1</th>\n",
       "      <td>-0.032289</td>\n",
       "      <td>1.000000</td>\n",
       "      <td>-0.074853</td>\n",
       "      <td>0.058636</td>\n",
       "      <td>-0.071274</td>\n",
       "      <td>-0.008183</td>\n",
       "      <td>-0.064951</td>\n",
       "      <td>-0.075032</td>\n",
       "    </tr>\n",
       "    <tr>\n",
       "      <th>Lag2</th>\n",
       "      <td>-0.033390</td>\n",
       "      <td>-0.074853</td>\n",
       "      <td>1.000000</td>\n",
       "      <td>-0.075721</td>\n",
       "      <td>0.058382</td>\n",
       "      <td>-0.072499</td>\n",
       "      <td>-0.085513</td>\n",
       "      <td>0.059167</td>\n",
       "    </tr>\n",
       "    <tr>\n",
       "      <th>Lag3</th>\n",
       "      <td>-0.030006</td>\n",
       "      <td>0.058636</td>\n",
       "      <td>-0.075721</td>\n",
       "      <td>1.000000</td>\n",
       "      <td>-0.075396</td>\n",
       "      <td>0.060657</td>\n",
       "      <td>-0.069288</td>\n",
       "      <td>-0.071244</td>\n",
       "    </tr>\n",
       "    <tr>\n",
       "      <th>Lag4</th>\n",
       "      <td>-0.031128</td>\n",
       "      <td>-0.071274</td>\n",
       "      <td>0.058382</td>\n",
       "      <td>-0.075396</td>\n",
       "      <td>1.000000</td>\n",
       "      <td>-0.075675</td>\n",
       "      <td>-0.061075</td>\n",
       "      <td>-0.007826</td>\n",
       "    </tr>\n",
       "    <tr>\n",
       "      <th>Lag5</th>\n",
       "      <td>-0.030519</td>\n",
       "      <td>-0.008183</td>\n",
       "      <td>-0.072499</td>\n",
       "      <td>0.060657</td>\n",
       "      <td>-0.075675</td>\n",
       "      <td>1.000000</td>\n",
       "      <td>-0.058517</td>\n",
       "      <td>0.011013</td>\n",
       "    </tr>\n",
       "    <tr>\n",
       "      <th>Volume</th>\n",
       "      <td>0.841942</td>\n",
       "      <td>-0.064951</td>\n",
       "      <td>-0.085513</td>\n",
       "      <td>-0.069288</td>\n",
       "      <td>-0.061075</td>\n",
       "      <td>-0.058517</td>\n",
       "      <td>1.000000</td>\n",
       "      <td>-0.033078</td>\n",
       "    </tr>\n",
       "    <tr>\n",
       "      <th>Today</th>\n",
       "      <td>-0.032460</td>\n",
       "      <td>-0.075032</td>\n",
       "      <td>0.059167</td>\n",
       "      <td>-0.071244</td>\n",
       "      <td>-0.007826</td>\n",
       "      <td>0.011013</td>\n",
       "      <td>-0.033078</td>\n",
       "      <td>1.000000</td>\n",
       "    </tr>\n",
       "  </tbody>\n",
       "</table>\n",
       "</div>"
      ],
      "text/plain": [
       "            Year      Lag1      Lag2      Lag3      Lag4      Lag5    Volume  \\\n",
       "Year    1.000000 -0.032289 -0.033390 -0.030006 -0.031128 -0.030519  0.841942   \n",
       "Lag1   -0.032289  1.000000 -0.074853  0.058636 -0.071274 -0.008183 -0.064951   \n",
       "Lag2   -0.033390 -0.074853  1.000000 -0.075721  0.058382 -0.072499 -0.085513   \n",
       "Lag3   -0.030006  0.058636 -0.075721  1.000000 -0.075396  0.060657 -0.069288   \n",
       "Lag4   -0.031128 -0.071274  0.058382 -0.075396  1.000000 -0.075675 -0.061075   \n",
       "Lag5   -0.030519 -0.008183 -0.072499  0.060657 -0.075675  1.000000 -0.058517   \n",
       "Volume  0.841942 -0.064951 -0.085513 -0.069288 -0.061075 -0.058517  1.000000   \n",
       "Today  -0.032460 -0.075032  0.059167 -0.071244 -0.007826  0.011013 -0.033078   \n",
       "\n",
       "           Today  \n",
       "Year   -0.032460  \n",
       "Lag1   -0.075032  \n",
       "Lag2    0.059167  \n",
       "Lag3   -0.071244  \n",
       "Lag4   -0.007826  \n",
       "Lag5    0.011013  \n",
       "Volume -0.033078  \n",
       "Today   1.000000  "
      ]
     },
     "execution_count": 8,
     "metadata": {},
     "output_type": "execute_result"
    }
   ],
   "source": [
    "weekly.iloc[:, :-1].corr()"
   ]
  },
  {
   "cell_type": "code",
   "execution_count": 10,
   "metadata": {},
   "outputs": [
    {
     "data": {
      "image/png": "[encoded data removed]",
      "text/plain": [
       "<Figure size 432x288 with 1 Axes>"
      ]
     },
     "metadata": {
      "needs_background": "light"
     },
     "output_type": "display_data"
    }
   ],
   "source": [
    "sns.scatterplot(x=weekly.index, y=weekly.Volume);"
   ]
  },
  {
   "cell_type": "markdown",
   "metadata": {},
   "source": [
    "The correlations between the “lag” variables and today’s returns are close to zero. The only substantial correlation is between “Year” and “Volume”. When we plot “Volume” vs index, we see that it is increasing over time.\n",
    "\n",
    "(b) Use the full data set to perform a logistic regression with **Direction** as the response and the five lag variables plus **Volume** as predictors. Use the summary function to print the results. Do any of the predictors appear to be statistically significant? If so, which ones?\n",
    "\n",
    "**Solution**:"
   ]
  },
  {
   "cell_type": "code",
   "execution_count": 12,
   "metadata": {},
   "outputs": [
    {
     "data": {
      "text/html": [
       "<table class=\"simpletable\">\n",
       "<caption>Generalized Linear Model Regression Results</caption>\n",
       "<tr>\n",
       "  <th>Dep. Variable:</th>   <td>['Direction[Down]', 'Direction[Up]']</td> <th>  No. Observations:  </th>  <td>  1089</td> \n",
       "</tr>\n",
       "<tr>\n",
       "  <th>Model:</th>                            <td>GLM</td>                 <th>  Df Residuals:      </th>  <td>  1082</td> \n",
       "</tr>\n",
       "<tr>\n",
       "  <th>Model Family:</th>                  <td>Binomial</td>               <th>  Df Model:          </th>  <td>     6</td> \n",
       "</tr>\n",
       "<tr>\n",
       "  <th>Link Function:</th>                   <td>logit</td>                <th>  Scale:             </th> <td>  1.0000</td>\n",
       "</tr>\n",
       "<tr>\n",
       "  <th>Method:</th>                          <td>IRLS</td>                 <th>  Log-Likelihood:    </th> <td> -743.18</td>\n",
       "</tr>\n",
       "<tr>\n",
       "  <th>Date:</th>                      <td>Sat, 02 Jan 2021</td>           <th>  Deviance:          </th> <td>  1486.4</td>\n",
       "</tr>\n",
       "<tr>\n",
       "  <th>Time:</th>                          <td>21:41:47</td>               <th>  Pearson chi2:      </th> <td>1.09e+03</td>\n",
       "</tr>\n",
       "<tr>\n",
       "  <th>No. Iterations:</th>                    <td>4</td>                  <th>                     </th>     <td> </td>   \n",
       "</tr>\n",
       "<tr>\n",
       "  <th>Covariance Type:</th>               <td>nonrobust</td>              <th>                     </th>     <td> </td>   \n",
       "</tr>\n",
       "</table>\n",
       "<table class=\"simpletable\">\n",
       "<tr>\n",
       "      <td></td>         <th>coef</th>     <th>std err</th>      <th>z</th>      <th>P>|z|</th>  <th>[0.025</th>    <th>0.975]</th>  \n",
       "</tr>\n",
       "<tr>\n",
       "  <th>Intercept</th> <td>   -0.2669</td> <td>    0.086</td> <td>   -3.106</td> <td> 0.002</td> <td>   -0.435</td> <td>   -0.098</td>\n",
       "</tr>\n",
       "<tr>\n",
       "  <th>Lag1</th>      <td>    0.0413</td> <td>    0.026</td> <td>    1.563</td> <td> 0.118</td> <td>   -0.010</td> <td>    0.093</td>\n",
       "</tr>\n",
       "<tr>\n",
       "  <th>Lag2</th>      <td>   -0.0584</td> <td>    0.027</td> <td>   -2.175</td> <td> 0.030</td> <td>   -0.111</td> <td>   -0.006</td>\n",
       "</tr>\n",
       "<tr>\n",
       "  <th>Lag3</th>      <td>    0.0161</td> <td>    0.027</td> <td>    0.602</td> <td> 0.547</td> <td>   -0.036</td> <td>    0.068</td>\n",
       "</tr>\n",
       "<tr>\n",
       "  <th>Lag4</th>      <td>    0.0278</td> <td>    0.026</td> <td>    1.050</td> <td> 0.294</td> <td>   -0.024</td> <td>    0.080</td>\n",
       "</tr>\n",
       "<tr>\n",
       "  <th>Lag5</th>      <td>    0.0145</td> <td>    0.026</td> <td>    0.549</td> <td> 0.583</td> <td>   -0.037</td> <td>    0.066</td>\n",
       "</tr>\n",
       "<tr>\n",
       "  <th>Volume</th>    <td>    0.0227</td> <td>    0.037</td> <td>    0.616</td> <td> 0.538</td> <td>   -0.050</td> <td>    0.095</td>\n",
       "</tr>\n",
       "</table>"
      ],
      "text/plain": [
       "<class 'statsmodels.iolib.summary.Summary'>\n",
       "\"\"\"\n",
       "                          Generalized Linear Model Regression Results                           \n",
       "================================================================================================\n",
       "Dep. Variable:     ['Direction[Down]', 'Direction[Up]']   No. Observations:                 1089\n",
       "Model:                                              GLM   Df Residuals:                     1082\n",
       "Model Family:                                  Binomial   Df Model:                            6\n",
       "Link Function:                                    logit   Scale:                          1.0000\n",
       "Method:                                            IRLS   Log-Likelihood:                -743.18\n",
       "Date:                                  Sat, 02 Jan 2021   Deviance:                       1486.4\n",
       "Time:                                          21:41:47   Pearson chi2:                 1.09e+03\n",
       "No. Iterations:                                       4                                         \n",
       "Covariance Type:                              nonrobust                                         \n",
       "==============================================================================\n",
       "                 coef    std err          z      P>|z|      [0.025      0.975]\n",
       "------------------------------------------------------------------------------\n",
       "Intercept     -0.2669      0.086     -3.106      0.002      -0.435      -0.098\n",
       "Lag1           0.0413      0.026      1.563      0.118      -0.010       0.093\n",
       "Lag2          -0.0584      0.027     -2.175      0.030      -0.111      -0.006\n",
       "Lag3           0.0161      0.027      0.602      0.547      -0.036       0.068\n",
       "Lag4           0.0278      0.026      1.050      0.294      -0.024       0.080\n",
       "Lag5           0.0145      0.026      0.549      0.583      -0.037       0.066\n",
       "Volume         0.0227      0.037      0.616      0.538      -0.050       0.095\n",
       "==============================================================================\n",
       "\"\"\""
      ]
     },
     "execution_count": 12,
     "metadata": {},
     "output_type": "execute_result"
    }
   ],
   "source": [
    "lg_fit = smf.glm('Direction~Lag1+Lag2+Lag3+Lag4+Lag5+Volume',\n",
    "                data=weekly,\n",
    "                family=sm.families.Binomial()).fit()\n",
    "lg_fit.summary()"
   ]
  },
  {
   "cell_type": "markdown",
   "metadata": {},
   "source": [
    "It would seem that “Lag2” is the only predictor statistically significant as its p-value is less than 0.05.\n",
    "\n",
    "(c) Compute the confusion matrix and overall farction of correct predictions. Explain what the confusion matrix is teling you about the types of mistakes made by logistic regression.\n",
    "\n",
    "**Solution**:"
   ]
  },
  {
   "cell_type": "code",
   "execution_count": 16,
   "metadata": {},
   "outputs": [
    {
     "data": {
      "text/plain": [
       "array([[ 54, 430],\n",
       "       [ 48, 557]], dtype=int64)"
      ]
     },
     "execution_count": 16,
     "metadata": {},
     "output_type": "execute_result"
    }
   ],
   "source": [
    "lg_pred = np.where(lg_fit.fittedvalues>0.5, 'Down', 'Up')\n",
    "real_direction = weekly['Direction']\n",
    "confusion_matrix(real_direction, lg_pred)"
   ]
  },
  {
   "cell_type": "markdown",
   "metadata": {},
   "source": [
    "We may conclude that the percentage of correct predictions on the training data is $(54+557)/1089$ wich is equal to $56.1065197\\%$. In other words $43.8934803\\%$ is the training error rate, which is often overly optimistic. We could also say that for weeks when the market goes up, the model is right $92.0661157\\%$ of the time $557/(48+557)$. For weeks when the market goes down, the model is right only $11.1570248\\%$ of the time $54/(54+430)$.\n",
    "\n",
    "(d) Now fit the logistic regression model using a training data period from 1990 to 2008, with **Lag2** as the only predictor. Compute the confusion matrix and the overal fraction of correct predictions for the held out data (that is, the data from 2009 and 2010)\n",
    "\n",
    "**Solution**:"
   ]
  },
  {
   "cell_type": "code",
   "execution_count": 18,
   "metadata": {},
   "outputs": [],
   "source": [
    "train = weekly['Year']<2009\n",
    "test_set = weekly[~train]"
   ]
  },
  {
   "cell_type": "code",
   "execution_count": 19,
   "metadata": {},
   "outputs": [
    {
     "data": {
      "text/html": [
       "<table class=\"simpletable\">\n",
       "<caption>Generalized Linear Model Regression Results</caption>\n",
       "<tr>\n",
       "  <th>Dep. Variable:</th>   <td>['Direction[Down]', 'Direction[Up]']</td> <th>  No. Observations:  </th>  <td>   985</td> \n",
       "</tr>\n",
       "<tr>\n",
       "  <th>Model:</th>                            <td>GLM</td>                 <th>  Df Residuals:      </th>  <td>   983</td> \n",
       "</tr>\n",
       "<tr>\n",
       "  <th>Model Family:</th>                  <td>Binomial</td>               <th>  Df Model:          </th>  <td>     1</td> \n",
       "</tr>\n",
       "<tr>\n",
       "  <th>Link Function:</th>                   <td>logit</td>                <th>  Scale:             </th> <td>  1.0000</td>\n",
       "</tr>\n",
       "<tr>\n",
       "  <th>Method:</th>                          <td>IRLS</td>                 <th>  Log-Likelihood:    </th> <td> -675.27</td>\n",
       "</tr>\n",
       "<tr>\n",
       "  <th>Date:</th>                      <td>Sat, 02 Jan 2021</td>           <th>  Deviance:          </th> <td>  1350.5</td>\n",
       "</tr>\n",
       "<tr>\n",
       "  <th>Time:</th>                          <td>21:56:14</td>               <th>  Pearson chi2:      </th>  <td>  985.</td> \n",
       "</tr>\n",
       "<tr>\n",
       "  <th>No. Iterations:</th>                    <td>4</td>                  <th>                     </th>     <td> </td>   \n",
       "</tr>\n",
       "<tr>\n",
       "  <th>Covariance Type:</th>               <td>nonrobust</td>              <th>                     </th>     <td> </td>   \n",
       "</tr>\n",
       "</table>\n",
       "<table class=\"simpletable\">\n",
       "<tr>\n",
       "      <td></td>         <th>coef</th>     <th>std err</th>      <th>z</th>      <th>P>|z|</th>  <th>[0.025</th>    <th>0.975]</th>  \n",
       "</tr>\n",
       "<tr>\n",
       "  <th>Intercept</th> <td>   -0.2033</td> <td>    0.064</td> <td>   -3.162</td> <td> 0.002</td> <td>   -0.329</td> <td>   -0.077</td>\n",
       "</tr>\n",
       "<tr>\n",
       "  <th>Lag2</th>      <td>   -0.0581</td> <td>    0.029</td> <td>   -2.024</td> <td> 0.043</td> <td>   -0.114</td> <td>   -0.002</td>\n",
       "</tr>\n",
       "</table>"
      ],
      "text/plain": [
       "<class 'statsmodels.iolib.summary.Summary'>\n",
       "\"\"\"\n",
       "                          Generalized Linear Model Regression Results                           \n",
       "================================================================================================\n",
       "Dep. Variable:     ['Direction[Down]', 'Direction[Up]']   No. Observations:                  985\n",
       "Model:                                              GLM   Df Residuals:                      983\n",
       "Model Family:                                  Binomial   Df Model:                            1\n",
       "Link Function:                                    logit   Scale:                          1.0000\n",
       "Method:                                            IRLS   Log-Likelihood:                -675.27\n",
       "Date:                                  Sat, 02 Jan 2021   Deviance:                       1350.5\n",
       "Time:                                          21:56:14   Pearson chi2:                     985.\n",
       "No. Iterations:                                       4                                         \n",
       "Covariance Type:                              nonrobust                                         \n",
       "==============================================================================\n",
       "                 coef    std err          z      P>|z|      [0.025      0.975]\n",
       "------------------------------------------------------------------------------\n",
       "Intercept     -0.2033      0.064     -3.162      0.002      -0.329      -0.077\n",
       "Lag2          -0.0581      0.029     -2.024      0.043      -0.114      -0.002\n",
       "==============================================================================\n",
       "\"\"\""
      ]
     },
     "execution_count": 19,
     "metadata": {},
     "output_type": "execute_result"
    }
   ],
   "source": [
    "lg_fit = smf.glm('Direction~Lag2',\n",
    "                data=weekly,\n",
    "                subset=train,\n",
    "                family=sm.families.Binomial()).fit()\n",
    "lg_fit.summary()"
   ]
  },
  {
   "cell_type": "code",
   "execution_count": 21,
   "metadata": {},
   "outputs": [
    {
     "data": {
      "text/plain": [
       "array([[ 9, 34],\n",
       "       [ 5, 56]], dtype=int64)"
      ]
     },
     "execution_count": 21,
     "metadata": {},
     "output_type": "execute_result"
    }
   ],
   "source": [
    "lg_prob = lg_fit.predict(test_set)\n",
    "lg_pred = np.where(lg_prob>0.5,\n",
    "                  'Down', 'Up')\n",
    "real_direction = test_set['Direction']\n",
    "confusion_matrix(real_direction, lg_pred)"
   ]
  },
  {
   "cell_type": "code",
   "execution_count": 22,
   "metadata": {},
   "outputs": [
    {
     "data": {
      "text/plain": [
       "0.625"
      ]
     },
     "execution_count": 22,
     "metadata": {},
     "output_type": "execute_result"
    }
   ],
   "source": [
    "(9+56)/len(test_set)"
   ]
  },
  {
   "cell_type": "markdown",
   "metadata": {},
   "source": [
    "In this case, we may conclude that the percentage of correct predictions on the test data is $(9+56)/104$ wich is equal to $62.5\\%$. In other words $37.5\\%$ is the test error rate. We could also say that for weeks when the market goes up, the model is right $91.8032787\\%$ of the time $56/(56+5)$. For weeks when the market goes down, the model is right only $20.9302326\\%$ of the time $9/(9+34)$.\n",
    "\n",
    "(e) Repeat (d) using LDA.\n",
    "\n",
    "**Solution**:"
   ]
  },
  {
   "cell_type": "code",
   "execution_count": 63,
   "metadata": {},
   "outputs": [
    {
     "data": {
      "text/plain": [
       "array([[ 9, 34],\n",
       "       [ 5, 56]], dtype=int64)"
      ]
     },
     "execution_count": 63,
     "metadata": {},
     "output_type": "execute_result"
    }
   ],
   "source": [
    "X_train = weekly[train][['Lag2']]\n",
    "y_train = weekly[train]['Direction']\n",
    "\n",
    "X_test = test_set[['Lag2']]\n",
    "y_test = test_set['Direction']\n",
    "\n",
    "lda = LinearDiscriminantAnalysis()\n",
    "lda_fit = lda.fit(X_train, y_train)\n",
    "\n",
    "lda_pred = lda_fit.predict(X_test)\n",
    "confusion_matrix(y_test, lda_pred)"
   ]
  },
  {
   "cell_type": "markdown",
   "metadata": {},
   "source": [
    "As we can see, we get the same result as that obtained by the logistic regression.\n",
    "\n",
    "(f) Repeate (d) using QDA.\n",
    "\n",
    "**Solution**:"
   ]
  },
  {
   "cell_type": "code",
   "execution_count": 33,
   "metadata": {},
   "outputs": [
    {
     "data": {
      "text/plain": [
       "array([[ 0, 43],\n",
       "       [ 0, 61]], dtype=int64)"
      ]
     },
     "execution_count": 33,
     "metadata": {},
     "output_type": "execute_result"
    }
   ],
   "source": [
    "qda = QuadraticDiscriminantAnalysis()\n",
    "qda_fit = qda.fit(X_train, y_train)\n",
    "\n",
    "qda_pred = qda_fit.predict(X_test)\n",
    "confusion_matrix(y_test, qda_pred)"
   ]
  },
  {
   "cell_type": "markdown",
   "metadata": {},
   "source": [
    "In this case, we may conclude that the percentage of correct predictions on the test data is $58.6538462\\%$. In other words $41.3461538\\%$ is the test error rate. We could also say that for weeks when the market goes up, the model is right $100\\%$ of the time. For weeks when the market goes down, the model is right only $0\\%$ of the time. We may note, that QDA achieves a correctness of $58.6538462\\%$ even though the model chooses “Up” the whole time !\n",
    "\n",
    "(g) Repeat (d) using KNN with K = 1.\n",
    "\n",
    "**Solution**:"
   ]
  },
  {
   "cell_type": "code",
   "execution_count": 35,
   "metadata": {},
   "outputs": [
    {
     "data": {
      "text/plain": [
       "array([[21, 22],\n",
       "       [31, 30]], dtype=int64)"
      ]
     },
     "execution_count": 35,
     "metadata": {},
     "output_type": "execute_result"
    }
   ],
   "source": [
    "knn = neighbors.KNeighborsClassifier(n_neighbors=1)\n",
    "knn_pred = knn.fit(X_train, y_train)\\\n",
    "              .predict(X_test)\n",
    "confusion_matrix(y_test, knn_pred)"
   ]
  },
  {
   "cell_type": "markdown",
   "metadata": {},
   "source": [
    "In this case, we may conclude that the percentage of correct predictions on the test data is $49\\%$. In other words $51\\%$ is the test error rate. We could also say that for weeks when the market goes up, the model is right $49.18\\%$ of the time. For weeks when the market goes down, the model is right only $48.84\\%$ of the time."
   ]
  },
  {
   "cell_type": "markdown",
   "metadata": {},
   "source": [
    "(h) Which of these methods appears to provide the best results on this data?\n",
    "\n",
    "**Solution**:\n",
    "\n",
    "Since the logistic regression and the LDA have the lowest test error rate, these two methods appear to provide the best results on this data."
   ]
  },
  {
   "cell_type": "markdown",
   "metadata": {},
   "source": [
    "(i) Experiment with different combinations of predictors, including possible transformations and interactions, for each of the methods. Report the variables, method, and associated confusion matrix that appears to provide the best results on the held out data. Note that you should also experiment with values for K in the KNN classifier.\n",
    "\n",
    "**Solution**:"
   ]
  },
  {
   "cell_type": "code",
   "execution_count": 65,
   "metadata": {},
   "outputs": [
    {
     "data": {
      "text/plain": [
       "array([[ 7, 36],\n",
       "       [ 8, 53]], dtype=int64)"
      ]
     },
     "execution_count": 65,
     "metadata": {},
     "output_type": "execute_result"
    }
   ],
   "source": [
    "# Logistic regression with Lag1:Lag2 terms\n",
    "lg_fit3 = smf.glm('Direction~Lag1*Lag2',\n",
    "                 data=weekly,\n",
    "                 subset=train,\n",
    "                 family=sm.families.Binomial()).fit()\n",
    "lg_fit3_prob = lg_fit3.predict(test_set)\n",
    "lg_fit3_pred = np.where(lg_fit3_prob>0.5,\n",
    "                       'Down', 'Up')\n",
    "confusion_matrix(y_test, lg_fit3_pred)"
   ]
  },
  {
   "cell_type": "code",
   "execution_count": 66,
   "metadata": {},
   "outputs": [
    {
     "data": {
      "text/plain": [
       "0.5769230769230769"
      ]
     },
     "execution_count": 66,
     "metadata": {},
     "output_type": "execute_result"
    }
   ],
   "source": [
    "(y_test == lg_fit3_pred).mean()"
   ]
  },
  {
   "cell_type": "code",
   "execution_count": 59,
   "metadata": {},
   "outputs": [
    {
     "data": {
      "text/plain": [
       "array([[ 5, 38],\n",
       "       [ 6, 55]], dtype=int64)"
      ]
     },
     "execution_count": 59,
     "metadata": {},
     "output_type": "execute_result"
    }
   ],
   "source": [
    "# LDA with Lag2 interaction with Lag1\n",
    "import patsy\n",
    "formula = 'Direction~Lag1*Lag2'\n",
    "y, X = patsy.dmatrices(formula, weekly, return_type='matrix')\n",
    "lda = LinearDiscriminantAnalysis()\n",
    "lda_fit3 = lda.fit(X, y[:,0])\n",
    "y_test, X_test = patsy.dmatrices(formula, test_set, return_type='matrix')\n",
    "lda_pred = lda_fit3.predict(X_test)\n",
    "lda_pred = np.where(lda_pred==1, 'Down', 'Up')\n",
    "confusion_matrix(test_set['Direction'], lda_pred)"
   ]
  },
  {
   "cell_type": "code",
   "execution_count": 60,
   "metadata": {},
   "outputs": [
    {
     "data": {
      "text/plain": [
       "0.5769230769230769"
      ]
     },
     "execution_count": 60,
     "metadata": {},
     "output_type": "execute_result"
    }
   ],
   "source": [
    "(lda_pred == test_set['Direction']).mean()"
   ]
  },
  {
   "cell_type": "code",
   "execution_count": null,
   "metadata": {},
   "outputs": [],
   "source": []
  }
 ],
 "metadata": {
  "kernelspec": {
   "display_name": "Python 3",
   "language": "python",
   "name": "python3"
  },
  "language_info": {
   "codemirror_mode": {
    "name": "ipython",
    "version": 3
   },
   "file_extension": ".py",
   "mimetype": "text/x-python",
   "name": "python",
   "nbconvert_exporter": "python",
   "pygments_lexer": "ipython3",
   "version": "3.7.9"
  }
 },
 "nbformat": 4,
 "nbformat_minor": 4
}
