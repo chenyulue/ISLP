{
 "cells": [
  {
   "cell_type": "markdown",
   "metadata": {},
   "source": [
    "# 5.3 Lab: Cross-Validation and the Bootstrap\n",
    "\n",
    "## 5.3.1 The Validation Set Approach\n",
    "\n",
    "We explore the use of the validation set approach in order to estimate the test error rates that result from fitting various linear models on the **Auto** data set."
   ]
  },
  {
   "cell_type": "code",
   "execution_count": 1,
   "metadata": {},
   "outputs": [],
   "source": [
    "import pandas as pd\n",
    "import numpy as np\n",
    "\n",
    "import statsmodels.formula.api as smf"
   ]
  },
  {
   "cell_type": "code",
   "execution_count": 2,
   "metadata": {},
   "outputs": [
    {
     "name": "stdout",
     "output_type": "stream",
     "text": [
      "<class 'pandas.core.frame.DataFrame'>\n",
      "RangeIndex: 392 entries, 0 to 391\n",
      "Data columns (total 10 columns):\n",
      " #   Column        Non-Null Count  Dtype  \n",
      "---  ------        --------------  -----  \n",
      " 0   index         392 non-null    int64  \n",
      " 1   mpg           392 non-null    float64\n",
      " 2   cylinders     392 non-null    int64  \n",
      " 3   displacement  392 non-null    float64\n",
      " 4   horsepower    392 non-null    float64\n",
      " 5   weight        392 non-null    int64  \n",
      " 6   acceleration  392 non-null    float64\n",
      " 7   year          392 non-null    int64  \n",
      " 8   origin        392 non-null    int64  \n",
      " 9   name          392 non-null    object \n",
      "dtypes: float64(4), int64(5), object(1)\n",
      "memory usage: 30.8+ KB\n"
     ]
    }
   ],
   "source": [
    "auto = pd.read_csv('../data/Auto.csv',\n",
    "                  na_values='?')\\\n",
    "         .dropna()\\\n",
    "         .reset_index()\n",
    "auto.info()"
   ]
  },
  {
   "cell_type": "markdown",
   "metadata": {},
   "source": [
    "We begin by using the `DataFrame`'s `sample()` method to split the set of observations into two halves, by selecting a random subset of 196 observations out of the original 392 observations.\n",
    "\n",
    "To reproduce the result, we can specify the `random_state` option in the `sample()` method."
   ]
  },
  {
   "cell_type": "code",
   "execution_count": 3,
   "metadata": {},
   "outputs": [],
   "source": [
    "train_auto = auto.sample(196, random_state=1)\n",
    "test_auto = auto[~auto.isin(train_auto)].dropna(how='all')"
   ]
  },
  {
   "cell_type": "markdown",
   "metadata": {},
   "source": [
    "We then use the `subset` option in `smf.ols()` to fit a linear regression using only the observations corresponding to the training set."
   ]
  },
  {
   "cell_type": "code",
   "execution_count": 4,
   "metadata": {},
   "outputs": [
    {
     "data": {
      "text/html": [
       "<table class=\"simpletable\">\n",
       "<caption>OLS Regression Results</caption>\n",
       "<tr>\n",
       "  <th>Dep. Variable:</th>           <td>mpg</td>       <th>  R-squared:         </th> <td>   0.620</td>\n",
       "</tr>\n",
       "<tr>\n",
       "  <th>Model:</th>                   <td>OLS</td>       <th>  Adj. R-squared:    </th> <td>   0.618</td>\n",
       "</tr>\n",
       "<tr>\n",
       "  <th>Method:</th>             <td>Least Squares</td>  <th>  F-statistic:       </th> <td>   316.4</td>\n",
       "</tr>\n",
       "<tr>\n",
       "  <th>Date:</th>             <td>Thu, 07 Jan 2021</td> <th>  Prob (F-statistic):</th> <td>1.28e-42</td>\n",
       "</tr>\n",
       "<tr>\n",
       "  <th>Time:</th>                 <td>21:36:52</td>     <th>  Log-Likelihood:    </th> <td> -592.07</td>\n",
       "</tr>\n",
       "<tr>\n",
       "  <th>No. Observations:</th>      <td>   196</td>      <th>  AIC:               </th> <td>   1188.</td>\n",
       "</tr>\n",
       "<tr>\n",
       "  <th>Df Residuals:</th>          <td>   194</td>      <th>  BIC:               </th> <td>   1195.</td>\n",
       "</tr>\n",
       "<tr>\n",
       "  <th>Df Model:</th>              <td>     1</td>      <th>                     </th>     <td> </td>   \n",
       "</tr>\n",
       "<tr>\n",
       "  <th>Covariance Type:</th>      <td>nonrobust</td>    <th>                     </th>     <td> </td>   \n",
       "</tr>\n",
       "</table>\n",
       "<table class=\"simpletable\">\n",
       "<tr>\n",
       "       <td></td>         <th>coef</th>     <th>std err</th>      <th>t</th>      <th>P>|t|</th>  <th>[0.025</th>    <th>0.975]</th>  \n",
       "</tr>\n",
       "<tr>\n",
       "  <th>Intercept</th>  <td>   40.3338</td> <td>    1.023</td> <td>   39.416</td> <td> 0.000</td> <td>   38.316</td> <td>   42.352</td>\n",
       "</tr>\n",
       "<tr>\n",
       "  <th>horsepower</th> <td>   -0.1596</td> <td>    0.009</td> <td>  -17.788</td> <td> 0.000</td> <td>   -0.177</td> <td>   -0.142</td>\n",
       "</tr>\n",
       "</table>\n",
       "<table class=\"simpletable\">\n",
       "<tr>\n",
       "  <th>Omnibus:</th>       <td> 8.393</td> <th>  Durbin-Watson:     </th> <td>   1.808</td>\n",
       "</tr>\n",
       "<tr>\n",
       "  <th>Prob(Omnibus):</th> <td> 0.015</td> <th>  Jarque-Bera (JB):  </th> <td>   8.787</td>\n",
       "</tr>\n",
       "<tr>\n",
       "  <th>Skew:</th>          <td> 0.516</td> <th>  Prob(JB):          </th> <td>  0.0124</td>\n",
       "</tr>\n",
       "<tr>\n",
       "  <th>Kurtosis:</th>      <td> 2.899</td> <th>  Cond. No.          </th> <td>    328.</td>\n",
       "</tr>\n",
       "</table><br/><br/>Notes:<br/>[1] Standard Errors assume that the covariance matrix of the errors is correctly specified."
      ],
      "text/plain": [
       "<class 'statsmodels.iolib.summary.Summary'>\n",
       "\"\"\"\n",
       "                            OLS Regression Results                            \n",
       "==============================================================================\n",
       "Dep. Variable:                    mpg   R-squared:                       0.620\n",
       "Model:                            OLS   Adj. R-squared:                  0.618\n",
       "Method:                 Least Squares   F-statistic:                     316.4\n",
       "Date:                Thu, 07 Jan 2021   Prob (F-statistic):           1.28e-42\n",
       "Time:                        21:36:52   Log-Likelihood:                -592.07\n",
       "No. Observations:                 196   AIC:                             1188.\n",
       "Df Residuals:                     194   BIC:                             1195.\n",
       "Df Model:                           1                                         \n",
       "Covariance Type:            nonrobust                                         \n",
       "==============================================================================\n",
       "                 coef    std err          t      P>|t|      [0.025      0.975]\n",
       "------------------------------------------------------------------------------\n",
       "Intercept     40.3338      1.023     39.416      0.000      38.316      42.352\n",
       "horsepower    -0.1596      0.009    -17.788      0.000      -0.177      -0.142\n",
       "==============================================================================\n",
       "Omnibus:                        8.393   Durbin-Watson:                   1.808\n",
       "Prob(Omnibus):                  0.015   Jarque-Bera (JB):                8.787\n",
       "Skew:                           0.516   Prob(JB):                       0.0124\n",
       "Kurtosis:                       2.899   Cond. No.                         328.\n",
       "==============================================================================\n",
       "\n",
       "Notes:\n",
       "[1] Standard Errors assume that the covariance matrix of the errors is correctly specified.\n",
       "\"\"\""
      ]
     },
     "execution_count": 4,
     "metadata": {},
     "output_type": "execute_result"
    }
   ],
   "source": [
    "lm_fit_auto = smf.ols('mpg~horsepower',\n",
    "                     data=auto,\n",
    "                     subset=train_auto.index).fit()\n",
    "lm_fit_auto.summary()"
   ]
  },
  {
   "cell_type": "markdown",
   "metadata": {},
   "source": [
    "We now use the models's `predict()` method to estimate the response and calculate the MSE of the 196 observations in the validation set."
   ]
  },
  {
   "cell_type": "code",
   "execution_count": 5,
   "metadata": {},
   "outputs": [
    {
     "data": {
      "text/plain": [
       "23.36190289258723"
      ]
     },
     "execution_count": 5,
     "metadata": {},
     "output_type": "execute_result"
    }
   ],
   "source": [
    "pred_auto = lm_fit_auto.predict(test_auto)\n",
    "((pred_auto - test_auto['mpg'])**2).mean()"
   ]
  },
  {
   "cell_type": "markdown",
   "metadata": {},
   "source": [
    "Therefore, the estimated test MSE for the linear regression fit is 23.36. We can use the `np.power()` function to estimate the test error for the quadratic and cubic regressions."
   ]
  },
  {
   "cell_type": "code",
   "execution_count": 6,
   "metadata": {},
   "outputs": [
    {
     "data": {
      "text/plain": [
       "20.252690858350064"
      ]
     },
     "execution_count": 6,
     "metadata": {},
     "output_type": "execute_result"
    }
   ],
   "source": [
    "lm_fit2_auto = smf.ols('mpg~horsepower+np.power(horsepower, 2)',\n",
    "                      data=auto,\n",
    "                      subset=train_auto.index).fit()\n",
    "pred2_auto = lm_fit2_auto.predict(test_auto)\n",
    "((pred2_auto - test_auto['mpg'])**2).mean()"
   ]
  },
  {
   "cell_type": "code",
   "execution_count": 7,
   "metadata": {},
   "outputs": [
    {
     "data": {
      "text/plain": [
       "20.32560936589255"
      ]
     },
     "execution_count": 7,
     "metadata": {},
     "output_type": "execute_result"
    }
   ],
   "source": [
    "lm_fit3_auto = smf.ols('mpg~horsepower+np.power(horsepower, 2)+np.power(horsepower, 3)',\n",
    "                      data=auto,\n",
    "                      subset=train_auto.index).fit()\n",
    "pred3_auto = lm_fit3_auto.predict(test_auto)\n",
    "((pred3_auto - test_auto['mpg'])**2).mean()"
   ]
  },
  {
   "cell_type": "markdown",
   "metadata": {},
   "source": [
    "These error rates are 20.25 and 20.33 respectively. If we choose a diffrent training set instead, then we will obtain somewhat different errors on the validation set."
   ]
  },
  {
   "cell_type": "code",
   "execution_count": 8,
   "metadata": {},
   "outputs": [],
   "source": [
    "train_auto = auto.sample(196, random_state=2)\n",
    "test_auto = auto[~auto.isin(train_auto)].dropna(how='all')"
   ]
  },
  {
   "cell_type": "code",
   "execution_count": 9,
   "metadata": {},
   "outputs": [
    {
     "data": {
      "text/plain": [
       "25.10853905288965"
      ]
     },
     "execution_count": 9,
     "metadata": {},
     "output_type": "execute_result"
    }
   ],
   "source": [
    "lm_fit_auto = smf.ols('mpg~horsepower',\n",
    "                     data=auto,\n",
    "                     subset=train_auto.index).fit()\n",
    "pred_auto = lm_fit_auto.predict(test_auto)\n",
    "((pred_auto - test_auto['mpg'])**2).mean()"
   ]
  },
  {
   "cell_type": "code",
   "execution_count": 10,
   "metadata": {},
   "outputs": [
    {
     "data": {
      "text/plain": [
       "19.722533470490276"
      ]
     },
     "execution_count": 10,
     "metadata": {},
     "output_type": "execute_result"
    }
   ],
   "source": [
    "lm_fit2_auto = smf.ols('mpg~horsepower+np.power(horsepower, 2)',\n",
    "                      data=auto,\n",
    "                      subset=train_auto.index).fit()\n",
    "pred2_auto = lm_fit2_auto.predict(test_auto)\n",
    "((pred2_auto - test_auto['mpg'])**2).mean()"
   ]
  },
  {
   "cell_type": "code",
   "execution_count": 11,
   "metadata": {},
   "outputs": [
    {
     "data": {
      "text/plain": [
       "19.921367860022265"
      ]
     },
     "execution_count": 11,
     "metadata": {},
     "output_type": "execute_result"
    }
   ],
   "source": [
    "lm_fit3_auto = smf.ols('mpg~horsepower+np.power(horsepower, 2)+np.power(horsepower, 3)',\n",
    "                      data=auto,\n",
    "                      subset=train_auto.index).fit()\n",
    "pred3_auto = lm_fit3_auto.predict(test_auto)\n",
    "((pred3_auto - test_auto['mpg'])**2).mean()"
   ]
  },
  {
   "cell_type": "markdown",
   "metadata": {},
   "source": [
    "Using this split of the observations into a training set and a validation set, we find that the validation set error rates for the models with linear, quadratic, and cubic terms are 25.11, 19.72, and 19.92, respectively.\n",
    "\n",
    "## 5.3.2 Leave-One-Out Cross-Validation"
   ]
  },
  {
   "cell_type": "markdown",
   "metadata": {},
   "source": [
    "The LOOCV estimate can be automatically computed for any generalized linear model using the `LeaveOneOut()` and `KFold()` functions from the sub-module `model_selection` in the `scikit-learn` package."
   ]
  },
  {
   "cell_type": "code",
   "execution_count": 17,
   "metadata": {},
   "outputs": [],
   "source": [
    "from sklearn.model_selection import LeaveOneOut, KFold, cross_val_score\n",
    "import  sklearn.linear_model as sk_lm"
   ]
  },
  {
   "cell_type": "code",
   "execution_count": 20,
   "metadata": {},
   "outputs": [],
   "source": [
    "lm = sk_lm.LinearRegression()\n",
    "\n",
    "X_train = train_auto['horsepower'].values.reshape(-1,1)\n",
    "y_train = train_auto['mpg']\n",
    "X_test = test_auto['horsepower'].values.reshape(-1,1)\n",
    "y_test = test_auto['mpg']"
   ]
  },
  {
   "cell_type": "code",
   "execution_count": 31,
   "metadata": {},
   "outputs": [
    {
     "name": "stdout",
     "output_type": "stream",
     "text": [
      "Folds: 392\n",
      "MSE: 24.231513517929226\n",
      "STD: 36.79731503640535\n"
     ]
    }
   ],
   "source": [
    "model = lm.fit(X_train, y_train)\n",
    "\n",
    "loo = LeaveOneOut()\n",
    "X = auto['horsepower'].values.reshape(-1,1)\n",
    "y = auto['mpg'].values.reshape(-1,1)\n",
    "\n",
    "scores = cross_val_score(lm, X, y,\n",
    "                         scoring='neg_mean_squared_error',\n",
    "                         cv=loo,\n",
    "                         n_jobs=1)\n",
    "print(f'Folds: {len(scores)}'\n",
    "      f'\\nMSE: {np.mean(np.abs(scores))}' \n",
    "      f'\\nSTD: {np.std(scores)}')"
   ]
  },
  {
   "cell_type": "code",
   "execution_count": 35,
   "metadata": {},
   "outputs": [
    {
     "data": {
      "text/plain": [
       "-24.231513517929226"
      ]
     },
     "execution_count": 35,
     "metadata": {},
     "output_type": "execute_result"
    }
   ],
   "source": [
    "scores.mean()"
   ]
  },
  {
   "cell_type": "code",
   "execution_count": null,
   "metadata": {},
   "outputs": [],
   "source": []
  }
 ],
 "metadata": {
  "kernelspec": {
   "display_name": "Python 3",
   "language": "python",
   "name": "python3"
  },
  "language_info": {
   "codemirror_mode": {
    "name": "ipython",
    "version": 3
   },
   "file_extension": ".py",
   "mimetype": "text/x-python",
   "name": "python",
   "nbconvert_exporter": "python",
   "pygments_lexer": "ipython3",
   "version": "3.7.9"
  }
 },
 "nbformat": 4,
 "nbformat_minor": 4
}
