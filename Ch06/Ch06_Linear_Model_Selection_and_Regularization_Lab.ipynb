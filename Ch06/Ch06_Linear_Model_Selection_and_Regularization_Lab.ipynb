{
 "cells": [
  {
   "cell_type": "markdown",
   "id": "cordless-heating",
   "metadata": {},
   "source": [
    "# 6.5 Lab 1: Subset Selection Methods\n",
    "## 6.5.1 Best Subset Selection\n",
    "We first apply the best subset selection approach to the **Hitters** data, and wish to predict a baseball player's **Salary** on the basis of various statistics associated with performance in the previous year.\n",
    "\n",
    "First of all, we load the related data:"
   ]
  },
  {
   "cell_type": "code",
   "execution_count": 1,
   "id": "durable-thing",
   "metadata": {},
   "outputs": [],
   "source": [
    "import pandas as pd\n",
    "import numpy as np\n",
    "import patsy"
   ]
  },
  {
   "cell_type": "code",
   "execution_count": 2,
   "id": "tender-ontario",
   "metadata": {},
   "outputs": [
    {
     "output_type": "execute_result",
     "data": {
      "text/plain": [
       "                   AtBat  Hits  HmRun  Runs  RBI  Walks  Years  CAtBat  CHits  \\\n",
       "-Alan Ashby          315    81      7    24   38     39     14    3449    835   \n",
       "-Alvin Davis         479   130     18    66   72     76      3    1624    457   \n",
       "-Andre Dawson        496   141     20    65   78     37     11    5628   1575   \n",
       "-Andres Galarraga    321    87     10    39   42     30      2     396    101   \n",
       "-Alfredo Griffin     594   169      4    74   51     35     11    4408   1133   \n",
       "\n",
       "                   CHmRun  CRuns  CRBI  CWalks League Division  PutOuts  \\\n",
       "-Alan Ashby            69    321   414     375      N        W      632   \n",
       "-Alvin Davis           63    224   266     263      A        W      880   \n",
       "-Andre Dawson         225    828   838     354      N        E      200   \n",
       "-Andres Galarraga      12     48    46      33      N        E      805   \n",
       "-Alfredo Griffin       19    501   336     194      A        W      282   \n",
       "\n",
       "                   Assists  Errors  Salary NewLeague  \n",
       "-Alan Ashby             43      10   475.0         N  \n",
       "-Alvin Davis            82      14   480.0         A  \n",
       "-Andre Dawson           11       3   500.0         N  \n",
       "-Andres Galarraga       40       4    91.5         N  \n",
       "-Alfredo Griffin       421      25   750.0         A  "
      ],
      "text/html": "<div>\n<style scoped>\n    .dataframe tbody tr th:only-of-type {\n        vertical-align: middle;\n    }\n\n    .dataframe tbody tr th {\n        vertical-align: top;\n    }\n\n    .dataframe thead th {\n        text-align: right;\n    }\n</style>\n<table border=\"1\" class=\"dataframe\">\n  <thead>\n    <tr style=\"text-align: right;\">\n      <th></th>\n      <th>AtBat</th>\n      <th>Hits</th>\n      <th>HmRun</th>\n      <th>Runs</th>\n      <th>RBI</th>\n      <th>Walks</th>\n      <th>Years</th>\n      <th>CAtBat</th>\n      <th>CHits</th>\n      <th>CHmRun</th>\n      <th>CRuns</th>\n      <th>CRBI</th>\n      <th>CWalks</th>\n      <th>League</th>\n      <th>Division</th>\n      <th>PutOuts</th>\n      <th>Assists</th>\n      <th>Errors</th>\n      <th>Salary</th>\n      <th>NewLeague</th>\n    </tr>\n  </thead>\n  <tbody>\n    <tr>\n      <th>-Alan Ashby</th>\n      <td>315</td>\n      <td>81</td>\n      <td>7</td>\n      <td>24</td>\n      <td>38</td>\n      <td>39</td>\n      <td>14</td>\n      <td>3449</td>\n      <td>835</td>\n      <td>69</td>\n      <td>321</td>\n      <td>414</td>\n      <td>375</td>\n      <td>N</td>\n      <td>W</td>\n      <td>632</td>\n      <td>43</td>\n      <td>10</td>\n      <td>475.0</td>\n      <td>N</td>\n    </tr>\n    <tr>\n      <th>-Alvin Davis</th>\n      <td>479</td>\n      <td>130</td>\n      <td>18</td>\n      <td>66</td>\n      <td>72</td>\n      <td>76</td>\n      <td>3</td>\n      <td>1624</td>\n      <td>457</td>\n      <td>63</td>\n      <td>224</td>\n      <td>266</td>\n      <td>263</td>\n      <td>A</td>\n      <td>W</td>\n      <td>880</td>\n      <td>82</td>\n      <td>14</td>\n      <td>480.0</td>\n      <td>A</td>\n    </tr>\n    <tr>\n      <th>-Andre Dawson</th>\n      <td>496</td>\n      <td>141</td>\n      <td>20</td>\n      <td>65</td>\n      <td>78</td>\n      <td>37</td>\n      <td>11</td>\n      <td>5628</td>\n      <td>1575</td>\n      <td>225</td>\n      <td>828</td>\n      <td>838</td>\n      <td>354</td>\n      <td>N</td>\n      <td>E</td>\n      <td>200</td>\n      <td>11</td>\n      <td>3</td>\n      <td>500.0</td>\n      <td>N</td>\n    </tr>\n    <tr>\n      <th>-Andres Galarraga</th>\n      <td>321</td>\n      <td>87</td>\n      <td>10</td>\n      <td>39</td>\n      <td>42</td>\n      <td>30</td>\n      <td>2</td>\n      <td>396</td>\n      <td>101</td>\n      <td>12</td>\n      <td>48</td>\n      <td>46</td>\n      <td>33</td>\n      <td>N</td>\n      <td>E</td>\n      <td>805</td>\n      <td>40</td>\n      <td>4</td>\n      <td>91.5</td>\n      <td>N</td>\n    </tr>\n    <tr>\n      <th>-Alfredo Griffin</th>\n      <td>594</td>\n      <td>169</td>\n      <td>4</td>\n      <td>74</td>\n      <td>51</td>\n      <td>35</td>\n      <td>11</td>\n      <td>4408</td>\n      <td>1133</td>\n      <td>19</td>\n      <td>501</td>\n      <td>336</td>\n      <td>194</td>\n      <td>A</td>\n      <td>W</td>\n      <td>282</td>\n      <td>421</td>\n      <td>25</td>\n      <td>750.0</td>\n      <td>A</td>\n    </tr>\n  </tbody>\n</table>\n</div>"
     },
     "metadata": {},
     "execution_count": 2
    }
   ],
   "source": [
    "hitters = pd.read_csv('../data/Hitters.csv', \n",
    "                     na_values='?',\n",
    "                     index_col=0).dropna();\n",
    "hitters.head()"
   ]
  },
  {
   "cell_type": "code",
   "execution_count": 3,
   "id": "legitimate-sally",
   "metadata": {},
   "outputs": [
    {
     "output_type": "execute_result",
     "data": {
      "text/plain": [
       "(263, 20)"
      ]
     },
     "metadata": {},
     "execution_count": 3
    }
   ],
   "source": [
    "hitters.shape"
   ]
  },
  {
   "cell_type": "markdown",
   "id": "pharmaceutical-berlin",
   "metadata": {},
   "source": [
    "Some of the predictors are categorical, so we'd like to generate dummy variables for them, separate out the response variable and predictors. We use the `patsy` package to generate the corresponding matrix."
   ]
  },
  {
   "cell_type": "code",
   "execution_count": 4,
   "id": "atlantic-crawford",
   "metadata": {},
   "outputs": [],
   "source": [
    "pred_sum = '+'.join(hitters.columns.difference(['Salary']))\n",
    "formula = f'Salary~{pred_sum}-1'\n",
    "y, X = patsy.dmatrices(formula, hitters, return_type='matrix')"
   ]
  },
  {
   "cell_type": "markdown",
   "id": "drawn-basketball",
   "metadata": {},
   "source": [
    "Next we can define a `best_subset` function to select the best subset."
   ]
  },
  {
   "cell_type": "code",
   "execution_count": 57,
   "id": "together-density",
   "metadata": {},
   "outputs": [],
   "source": [
    "class BestSubset:\n",
    "\n",
    "    def __init__(self, model, X, y, assess):\n",
    "        self.model = model\n",
    "        self.X = X\n",
    "        self.y = y\n",
    "        self.assess = assess\n",
    "        self.num_features = np.shape(self.X)[1]\n",
    "\n",
    "    def get_subset(self, subsets):\n",
    "        def compute_training_rss():\n",
    "            for idx in subsets:\n",
    "                model_fit = self.model.fit(self.X[:, idx], self.y)\n",
    "                rss = ((model_fit.predict(self.X[:, idx]) - self.y) ** 2).sum()\n",
    "                yield (idx, rss)\n",
    "        return min(compute_training_rss(), key=lambda x: x[1])[0]\n",
    "    \n",
    "    def best_subset_cv(self, cv=5):\n",
    "        from sklearn.model_selection import cross_val_score\n",
    "        from itertools import combinations\n",
    "        def compute_test_score():\n",
    "            for k in range(self.num_features):\n",
    "                subset = self.get_subset(combinations(range(self.num_features), k+1))\n",
    "                score = -1*cross_val_score(self.model, \n",
    "                                        self.X[:, subset], self.y,\n",
    "                                        scoring='neg_mean_squared_error',\n",
    "                                        cv=cv).mean()\n",
    "                yield (subset, score)\n",
    "        return min(compute_test_score(), key=lambda x:x[1])[0]\n",
    "\n",
    "\n",
    "    def best_subset(self):\n",
    "        return self.best_subset_cv(cv=2)"
   ]
  },
  {
   "cell_type": "code",
   "execution_count": 65,
   "id": "sudden-gibraltar",
   "metadata": {},
   "outputs": [
    {
     "output_type": "execute_result",
     "data": {
      "text/plain": [
       "(0, 1, 2)"
      ]
     },
     "metadata": {},
     "execution_count": 65
    }
   ],
   "source": [
    "select_model = BestSubset(reg, A, b, 'cv')\n",
    "select_model.best_subset()"
   ]
  },
  {
   "cell_type": "code",
   "execution_count": 6,
   "id": "promotional-intake",
   "metadata": {},
   "outputs": [],
   "source": [
    "from sklearn import linear_model"
   ]
  },
  {
   "cell_type": "code",
   "execution_count": 63,
   "id": "african-genius",
   "metadata": {},
   "outputs": [],
   "source": [
    "reg = linear_model.LinearRegression()\n",
    "reg_fit = reg.fit(A, b)"
   ]
  },
  {
   "cell_type": "code",
   "execution_count": 64,
   "id": "verbal-entity",
   "metadata": {},
   "outputs": [
    {
     "output_type": "execute_result",
     "data": {
      "text/plain": [
       "array([10.85714286, 10.85714286,  9.85714286])"
      ]
     },
     "metadata": {},
     "execution_count": 64
    }
   ],
   "source": [
    "reg_fit.coef_"
   ]
  },
  {
   "cell_type": "code",
   "execution_count": 41,
   "id": "plain-outreach",
   "metadata": {},
   "outputs": [
    {
     "output_type": "execute_result",
     "data": {
      "text/plain": [
       "(4, 3)"
      ]
     },
     "metadata": {},
     "execution_count": 41
    }
   ],
   "source": [
    "min([(1,8),(4,3)], key=lambda x:x[1])"
   ]
  },
  {
   "cell_type": "code",
   "execution_count": 62,
   "metadata": {},
   "outputs": [],
   "source": [
    "A, b = np.array([[0,0,5],[1,1,3],[2,2,8]]), np.array([10,12,83])"
   ]
  },
  {
   "cell_type": "code",
   "execution_count": 24,
   "metadata": {},
   "outputs": [
    {
     "output_type": "execute_result",
     "data": {
      "text/plain": [
       "1"
      ]
     },
     "metadata": {},
     "execution_count": 24
    }
   ],
   "source": [
    "reg_fit.rank_"
   ]
  },
  {
   "cell_type": "code",
   "execution_count": 46,
   "metadata": {},
   "outputs": [
    {
     "output_type": "execute_result",
     "data": {
      "text/plain": [
       "(2, 3)"
      ]
     },
     "metadata": {},
     "execution_count": 46
    }
   ],
   "source": [
    "np.shape([[1,2,3],[4,5,6]])"
   ]
  },
  {
   "cell_type": "code",
   "execution_count": 52,
   "metadata": {},
   "outputs": [
    {
     "output_type": "error",
     "ename": "TypeError",
     "evalue": "list indices must be integers or slices, not tuple",
     "traceback": [
      "\u001b[1;31m---------------------------------------------------------------------------\u001b[0m",
      "\u001b[1;31mTypeError\u001b[0m                                 Traceback (most recent call last)",
      "\u001b[1;32m<ipython-input-52-ca1484b0a053>\u001b[0m in \u001b[0;36m<module>\u001b[1;34m\u001b[0m\n\u001b[1;32m----> 1\u001b[1;33m \u001b[0mA\u001b[0m\u001b[1;33m[\u001b[0m\u001b[1;33m[\u001b[0m\u001b[1;36m0\u001b[0m\u001b[1;33m,\u001b[0m\u001b[1;36m2\u001b[0m\u001b[1;33m]\u001b[0m\u001b[1;33m,\u001b[0m\u001b[1;33m:\u001b[0m\u001b[1;33m]\u001b[0m\u001b[1;33m\u001b[0m\u001b[1;33m\u001b[0m\u001b[0m\n\u001b[0m",
      "\u001b[1;31mTypeError\u001b[0m: list indices must be integers or slices, not tuple"
     ]
    }
   ],
   "source": [
    "A[[0,2],:]"
   ]
  },
  {
   "cell_type": "code",
   "execution_count": null,
   "metadata": {},
   "outputs": [],
   "source": []
  }
 ],
 "metadata": {
  "kernelspec": {
   "display_name": "Python 3",
   "language": "python",
   "name": "python3"
  },
  "language_info": {
   "codemirror_mode": {
    "name": "ipython",
    "version": 3
   },
   "file_extension": ".py",
   "mimetype": "text/x-python",
   "name": "python",
   "nbconvert_exporter": "python",
   "pygments_lexer": "ipython3",
   "version": "3.9.1-final"
  }
 },
 "nbformat": 4,
 "nbformat_minor": 5
}